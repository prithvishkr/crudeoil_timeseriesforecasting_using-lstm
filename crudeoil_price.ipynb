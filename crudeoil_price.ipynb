{
 "cells": [
  {
   "cell_type": "code",
   "execution_count": 1,
   "metadata": {},
   "outputs": [
    {
     "name": "stderr",
     "output_type": "stream",
     "text": [
      "Using TensorFlow backend.\n"
     ]
    }
   ],
   "source": [
    "import numpy as np\n",
    "import pandas as pd\n",
    "from keras.preprocessing import sequence\n",
    "from keras.models import load_model"
   ]
  },
  {
   "cell_type": "code",
   "execution_count": 3,
   "metadata": {},
   "outputs": [],
   "source": [
    "data=pd.read_csv('Crude Oil Prices Daily.xlsx')"
   ]
  },
  {
   "cell_type": "code",
   "execution_count": 4,
   "metadata": {},
   "outputs": [
    {
     "data": {
      "text/html": [
       "<div>\n",
       "<style scoped>\n",
       "    .dataframe tbody tr th:only-of-type {\n",
       "        vertical-align: middle;\n",
       "    }\n",
       "\n",
       "    .dataframe tbody tr th {\n",
       "        vertical-align: top;\n",
       "    }\n",
       "\n",
       "    .dataframe thead th {\n",
       "        text-align: right;\n",
       "    }\n",
       "</style>\n",
       "<table border=\"1\" class=\"dataframe\">\n",
       "  <thead>\n",
       "    <tr style=\"text-align: right;\">\n",
       "      <th></th>\n",
       "      <th>Date</th>\n",
       "      <th>Closing Value</th>\n",
       "    </tr>\n",
       "  </thead>\n",
       "  <tbody>\n",
       "    <tr>\n",
       "      <th>0</th>\n",
       "      <td>02/01/1986</td>\n",
       "      <td>25.56</td>\n",
       "    </tr>\n",
       "    <tr>\n",
       "      <th>1</th>\n",
       "      <td>03/01/1986</td>\n",
       "      <td>26.00</td>\n",
       "    </tr>\n",
       "    <tr>\n",
       "      <th>2</th>\n",
       "      <td>06/01/1986</td>\n",
       "      <td>26.53</td>\n",
       "    </tr>\n",
       "    <tr>\n",
       "      <th>3</th>\n",
       "      <td>07/01/1986</td>\n",
       "      <td>25.85</td>\n",
       "    </tr>\n",
       "    <tr>\n",
       "      <th>4</th>\n",
       "      <td>08/01/1986</td>\n",
       "      <td>25.87</td>\n",
       "    </tr>\n",
       "  </tbody>\n",
       "</table>\n",
       "</div>"
      ],
      "text/plain": [
       "         Date  Closing Value\n",
       "0  02/01/1986          25.56\n",
       "1  03/01/1986          26.00\n",
       "2  06/01/1986          26.53\n",
       "3  07/01/1986          25.85\n",
       "4  08/01/1986          25.87"
      ]
     },
     "execution_count": 4,
     "metadata": {},
     "output_type": "execute_result"
    }
   ],
   "source": [
    "data.head()"
   ]
  },
  {
   "cell_type": "code",
   "execution_count": 5,
   "metadata": {},
   "outputs": [],
   "source": [
    "import matplotlib.pyplot as plt\n",
    "%matplotlib inline"
   ]
  },
  {
   "cell_type": "code",
   "execution_count": 6,
   "metadata": {},
   "outputs": [
    {
     "data": {
      "text/plain": [
       "(8223, 2)"
      ]
     },
     "execution_count": 6,
     "metadata": {},
     "output_type": "execute_result"
    }
   ],
   "source": [
    "data.shape"
   ]
  },
  {
   "cell_type": "code",
   "execution_count": 7,
   "metadata": {},
   "outputs": [],
   "source": [
    "data_plot=data.iloc[:,1:2].values.astype(float)"
   ]
  },
  {
   "cell_type": "code",
   "execution_count": 8,
   "metadata": {},
   "outputs": [
    {
     "data": {
      "image/png": "[encoded data removed]",
      "text/plain": [
       "<Figure size 432x288 with 1 Axes>"
      ]
     },
     "metadata": {
      "needs_background": "light"
     },
     "output_type": "display_data"
    }
   ],
   "source": [
    "plt.plot(data_plot, color='red', label='Crude Oil Prices')\n",
    "plt.xlabel('Date')\n",
    "plt.ylabel('Price')\n",
    "plt.show()"
   ]
  },
  {
   "cell_type": "code",
   "execution_count": 9,
   "metadata": {},
   "outputs": [],
   "source": [
    "batch_size = 64\n",
    "epochs = 120\n",
    "timesteps = 30"
   ]
  },
  {
   "cell_type": "code",
   "execution_count": 12,
   "metadata": {},
   "outputs": [
    {
     "data": {
      "text/plain": [
       "8223"
      ]
     },
     "execution_count": 12,
     "metadata": {},
     "output_type": "execute_result"
    }
   ],
   "source": [
    "w=len(data)\n",
    "w"
   ]
  },
  {
   "cell_type": "code",
   "execution_count": 13,
   "metadata": {},
   "outputs": [
    {
     "data": {
      "text/plain": [
       "7400.7"
      ]
     },
     "execution_count": 13,
     "metadata": {},
     "output_type": "execute_result"
    }
   ],
   "source": [
    "w *= 1-0.1\n",
    "w"
   ]
  },
  {
   "cell_type": "code",
   "execution_count": 14,
   "metadata": {},
   "outputs": [
    {
     "data": {
      "text/plain": [
       "40.69999999999982"
      ]
     },
     "execution_count": 14,
     "metadata": {},
     "output_type": "execute_result"
    }
   ],
   "source": [
    "w%64.0"
   ]
  },
  {
   "cell_type": "markdown",
   "metadata": {},
   "source": [
    "# Batch-size and trainings-set size With stateful LSTMs the trainings-set size must be divisible without remainder by the batch-size (modulo = 0)the below function will help you calculate training set size"
   ]
  },
  {
   "cell_type": "code",
   "execution_count": 15,
   "metadata": {},
   "outputs": [],
   "source": [
    "def get_train_length(dataset, batch_size, test_percent):\n",
    "    # substract test_percent to be excluded from training, reserved for testset\n",
    "    length = len(dataset)\n",
    "    length *= 1 - test_percent\n",
    "    train_length_values = []\n",
    "    for x in range(int(length) - 100,int(length)): \n",
    "        modulo=x%batch_size\n",
    "        if (modulo == 0):\n",
    "            train_length_values.append(x)\n",
    "            print(x)\n",
    "    return (max(train_length_values))"
   ]
  },
  {
   "cell_type": "code",
   "execution_count": 17,
   "metadata": {},
   "outputs": [
    {
     "name": "stdout",
     "output_type": "stream",
     "text": [
      "6528\n"
     ]
    },
    {
     "data": {
      "text/plain": [
       "6528"
      ]
     },
     "execution_count": 17,
     "metadata": {},
     "output_type": "execute_result"
    }
   ],
   "source": [
    "length=get_train_length(data,batch_size,0.2)\n",
    "length"
   ]
  },
  {
   "cell_type": "code",
   "execution_count": 18,
   "metadata": {},
   "outputs": [],
   "source": [
    "upper_train= length +timesteps*2\n",
    "data_train= data[0:upper_train]\n",
    "train_set= data_train.iloc[:,1:2].values"
   ]
  },
  {
   "cell_type": "code",
   "execution_count": 19,
   "metadata": {},
   "outputs": [
    {
     "data": {
      "text/plain": [
       "(6588, 1)"
      ]
     },
     "execution_count": 19,
     "metadata": {},
     "output_type": "execute_result"
    }
   ],
   "source": [
    "train_set.shape"
   ]
  },
  {
   "cell_type": "code",
   "execution_count": 20,
   "metadata": {},
   "outputs": [],
   "source": [
    "from sklearn.preprocessing import MinMaxScaler"
   ]
  },
  {
   "cell_type": "markdown",
   "metadata": {},
   "source": [
    "# scaling between 0 & 1\n",
    "## to easily find the weight"
   ]
  },
  {
   "cell_type": "code",
   "execution_count": 21,
   "metadata": {},
   "outputs": [
    {
     "data": {
      "text/plain": [
       "(6588, 1)"
      ]
     },
     "execution_count": 21,
     "metadata": {},
     "output_type": "execute_result"
    }
   ],
   "source": [
    "sc=MinMaxScaler(feature_range=(0,1))\n",
    "train_set_scaled= sc.fit_transform(np.float64(train_set))\n",
    "train_set_scaled.shape"
   ]
  },
  {
   "cell_type": "code",
   "execution_count": 22,
   "metadata": {},
   "outputs": [],
   "source": [
    "X_train=[]\n",
    "Y_train=[]"
   ]
  },
  {
   "cell_type": "code",
   "execution_count": 23,
   "metadata": {},
   "outputs": [
    {
     "name": "stdout",
     "output_type": "stream",
     "text": [
      "6558\n"
     ]
    }
   ],
   "source": [
    "print(length+timesteps)"
   ]
  },
  {
   "cell_type": "code",
   "execution_count": 24,
   "metadata": {},
   "outputs": [],
   "source": [
    "for i in range(timesteps,length+timesteps):\n",
    "    X_train.append(train_set_scaled[i-timesteps:i,0])\n",
    "    Y_train.append(train_set_scaled[i-timesteps:i,0])"
   ]
  },
  {
   "cell_type": "code",
   "execution_count": 25,
   "metadata": {},
   "outputs": [
    {
     "data": {
      "text/plain": [
       "6528"
      ]
     },
     "execution_count": 25,
     "metadata": {},
     "output_type": "execute_result"
    }
   ],
   "source": [
    "len(X_train)"
   ]
  },
  {
   "cell_type": "code",
   "execution_count": 26,
   "metadata": {},
   "outputs": [
    {
     "data": {
      "text/plain": [
       "6528"
      ]
     },
     "execution_count": 26,
     "metadata": {},
     "output_type": "execute_result"
    }
   ],
   "source": [
    "len(Y_train)"
   ]
  },
  {
   "cell_type": "code",
   "execution_count": 27,
   "metadata": {},
   "outputs": [],
   "source": [
    "#create X_train matrix\n",
    "#30 items per array (timestep) "
   ]
  },
  {
   "cell_type": "code",
   "execution_count": 28,
   "metadata": {},
   "outputs": [
    {
     "data": {
      "text/plain": [
       "[array([0.11335703, 0.11661484, 0.12053902, 0.11550422, 0.1156523 ,\n",
       "        0.11683696, 0.1140234 , 0.10980305, 0.1089886 , 0.11054346,\n",
       "        0.10165852, 0.09906708, 0.08203761, 0.07670665, 0.07404117,\n",
       "        0.07167185, 0.06811787, 0.07863172, 0.06811787, 0.06930253,\n",
       "        0.06908041, 0.06441582, 0.05308752, 0.03946394, 0.04464682,\n",
       "        0.04701614, 0.05516067, 0.04834888, 0.04464682, 0.0406486 ]),\n",
       " array([0.11661484, 0.12053902, 0.11550422, 0.1156523 , 0.11683696,\n",
       "        0.1140234 , 0.10980305, 0.1089886 , 0.11054346, 0.10165852,\n",
       "        0.09906708, 0.08203761, 0.07670665, 0.07404117, 0.07167185,\n",
       "        0.06811787, 0.07863172, 0.06811787, 0.06930253, 0.06908041,\n",
       "        0.06441582, 0.05308752, 0.03946394, 0.04464682, 0.04701614,\n",
       "        0.05516067, 0.04834888, 0.04464682, 0.0406486 , 0.04575744])]"
      ]
     },
     "execution_count": 28,
     "metadata": {},
     "output_type": "execute_result"
    }
   ],
   "source": [
    "X_train[0:2]"
   ]
  },
  {
   "cell_type": "code",
   "execution_count": 29,
   "metadata": {},
   "outputs": [
    {
     "data": {
      "text/plain": [
       "(6528, 30)"
      ]
     },
     "execution_count": 29,
     "metadata": {},
     "output_type": "execute_result"
    }
   ],
   "source": [
    "np.array(X_train).shape"
   ]
  },
  {
   "cell_type": "code",
   "execution_count": 30,
   "metadata": {},
   "outputs": [
    {
     "data": {
      "text/plain": [
       "[array([0.11335703, 0.11661484, 0.12053902, 0.11550422, 0.1156523 ,\n",
       "        0.11683696, 0.1140234 , 0.10980305, 0.1089886 , 0.11054346,\n",
       "        0.10165852, 0.09906708, 0.08203761, 0.07670665, 0.07404117,\n",
       "        0.07167185, 0.06811787, 0.07863172, 0.06811787, 0.06930253,\n",
       "        0.06908041, 0.06441582, 0.05308752, 0.03946394, 0.04464682,\n",
       "        0.04701614, 0.05516067, 0.04834888, 0.04464682, 0.0406486 ]),\n",
       " array([0.11661484, 0.12053902, 0.11550422, 0.1156523 , 0.11683696,\n",
       "        0.1140234 , 0.10980305, 0.1089886 , 0.11054346, 0.10165852,\n",
       "        0.09906708, 0.08203761, 0.07670665, 0.07404117, 0.07167185,\n",
       "        0.06811787, 0.07863172, 0.06811787, 0.06930253, 0.06908041,\n",
       "        0.06441582, 0.05308752, 0.03946394, 0.04464682, 0.04701614,\n",
       "        0.05516067, 0.04834888, 0.04464682, 0.0406486 , 0.04575744])]"
      ]
     },
     "execution_count": 30,
     "metadata": {},
     "output_type": "execute_result"
    }
   ],
   "source": [
    "Y_train[0:2]"
   ]
  },
  {
   "cell_type": "code",
   "execution_count": 31,
   "metadata": {},
   "outputs": [
    {
     "data": {
      "text/plain": [
       "(6528, 30)"
      ]
     },
     "execution_count": 31,
     "metadata": {},
     "output_type": "execute_result"
    }
   ],
   "source": [
    "np.array(Y_train).shape"
   ]
  },
  {
   "cell_type": "code",
   "execution_count": 35,
   "metadata": {},
   "outputs": [
    {
     "name": "stdout",
     "output_type": "stream",
     "text": [
      "(6528, 30, 1)\n",
      "(6528, 30, 1)\n"
     ]
    }
   ],
   "source": [
    "X_train, y_train = np.array(X_train), np.array(Y_train)\n",
    "X_train = np.reshape(X_train, (X_train.shape[0], X_train.shape[1], 1))\n",
    "Y_train = np.reshape(Y_train, (y_train.shape[0], y_train.shape[1], 1))\n",
    "print(X_train.shape)\n",
    "print(Y_train.shape)"
   ]
  },
  {
   "cell_type": "code",
   "execution_count": 40,
   "metadata": {},
   "outputs": [],
   "source": [
    "from keras.layers import Dense\n",
    "from keras.layers import Input, LSTM\n",
    "from keras.models import Model\n",
    "import h5py\n",
    "#mae== mean absolute error function"
   ]
  },
  {
   "cell_type": "code",
   "execution_count": 41,
   "metadata": {},
   "outputs": [],
   "source": [
    "input_1_mae= Input(batch_shape=(batch_size,timesteps,1))"
   ]
  },
  {
   "cell_type": "code",
   "execution_count": 42,
   "metadata": {},
   "outputs": [],
   "source": [
    "lstm_1_mae = LSTM(10,stateful=True,return_sequences=True)(input_1_mae)\n",
    "lstm_2_mae = LSTM(10,stateful=True,return_sequences=True)(lstm_1_mae)"
   ]
  },
  {
   "cell_type": "code",
   "execution_count": 43,
   "metadata": {},
   "outputs": [],
   "source": [
    "output_1_mae=Dense(units=1)(lstm_2_mae)"
   ]
  },
  {
   "cell_type": "code",
   "execution_count": 44,
   "metadata": {},
   "outputs": [],
   "source": [
    "regressor_mae=Model(inputs=input_1_mae,outputs=output_1_mae)"
   ]
  },
  {
   "cell_type": "code",
   "execution_count": 45,
   "metadata": {},
   "outputs": [
    {
     "name": "stdout",
     "output_type": "stream",
     "text": [
      "Model: \"model_1\"\n",
      "_________________________________________________________________\n",
      "Layer (type)                 Output Shape              Param #   \n",
      "=================================================================\n",
      "input_2 (InputLayer)         (64, 30, 1)               0         \n",
      "_________________________________________________________________\n",
      "lstm_3 (LSTM)                (64, 30, 10)              480       \n",
      "_________________________________________________________________\n",
      "lstm_4 (LSTM)                (64, 30, 10)              840       \n",
      "_________________________________________________________________\n",
      "dense_2 (Dense)              (64, 30, 1)               11        \n",
      "=================================================================\n",
      "Total params: 1,331\n",
      "Trainable params: 1,331\n",
      "Non-trainable params: 0\n",
      "_________________________________________________________________\n"
     ]
    }
   ],
   "source": [
    "regressor_mae.compile(optimizer='adam', loss = 'mae')\n",
    "regressor_mae.summary()"
   ]
  },
  {
   "cell_type": "code",
   "execution_count": 46,
   "metadata": {},
   "outputs": [],
   "source": [
    "from keras import backend as K"
   ]
  },
  {
   "cell_type": "code",
   "execution_count": 49,
   "metadata": {},
   "outputs": [
    {
     "data": {
      "text/plain": [
       "480"
      ]
     },
     "execution_count": 49,
     "metadata": {},
     "output_type": "execute_result"
    }
   ],
   "source": [
    "#1st lstm\n",
    "parameters=480\n",
    "parameters"
   ]
  },
  {
   "cell_type": "code",
   "execution_count": 50,
   "metadata": {},
   "outputs": [
    {
     "name": "stdout",
     "output_type": "stream",
     "text": [
      "Epoch: 0\n",
      "Epoch 1/1\n",
      "6528/6528 [==============================] - 6s 967us/step - loss: 0.0242\n",
      "Epoch: 1\n",
      "Epoch 1/1\n",
      "6528/6528 [==============================] - 6s 941us/step - loss: 0.0196\n",
      "Epoch: 2\n",
      "Epoch 1/1\n",
      "6528/6528 [==============================] - 6s 912us/step - loss: 0.0127\n",
      "Epoch: 3\n",
      "Epoch 1/1\n",
      "6528/6528 [==============================] - 6s 904us/step - loss: 0.0139\n",
      "Epoch: 4\n",
      "Epoch 1/1\n",
      "6528/6528 [==============================] - 4s 683us/step - loss: 0.0130\n",
      "Epoch: 5\n",
      "Epoch 1/1\n",
      "6528/6528 [==============================] - 5s 739us/step - loss: 0.0158\n",
      "Epoch: 6\n",
      "Epoch 1/1\n",
      "6528/6528 [==============================] - 5s 709us/step - loss: 0.0113\n",
      "Epoch: 7\n",
      "Epoch 1/1\n",
      "6528/6528 [==============================] - 4s 674us/step - loss: 0.0107\n",
      "Epoch: 8\n",
      "Epoch 1/1\n",
      "6528/6528 [==============================] - 5s 692us/step - loss: 0.0138\n",
      "Epoch: 9\n",
      "Epoch 1/1\n",
      "6528/6528 [==============================] - 5s 690us/step - loss: 0.0111\n",
      "Epoch: 10\n",
      "Epoch 1/1\n",
      "6528/6528 [==============================] - 4s 675us/step - loss: 0.0148\n",
      "Epoch: 11\n",
      "Epoch 1/1\n",
      "6528/6528 [==============================] - 4s 669us/step - loss: 0.0101\n",
      "Epoch: 12\n",
      "Epoch 1/1\n",
      "6528/6528 [==============================] - 4s 666us/step - loss: 0.0095\n",
      "Epoch: 13\n",
      "Epoch 1/1\n",
      "6528/6528 [==============================] - 4s 678us/step - loss: 0.0113\n",
      "Epoch: 14\n",
      "Epoch 1/1\n",
      "6528/6528 [==============================] - 4s 661us/step - loss: 0.0122\n",
      "Epoch: 15\n",
      "Epoch 1/1\n",
      "6528/6528 [==============================] - 4s 681us/step - loss: 0.0137\n",
      "Epoch: 16\n",
      "Epoch 1/1\n",
      "6528/6528 [==============================] - 4s 670us/step - loss: 0.0108\n",
      "Epoch: 17\n",
      "Epoch 1/1\n",
      "6528/6528 [==============================] - 4s 681us/step - loss: 0.0097 0s - loss: 0.009\n",
      "Epoch: 18\n",
      "Epoch 1/1\n",
      "6528/6528 [==============================] - 5s 732us/step - loss: 0.0128\n",
      "Epoch: 19\n",
      "Epoch 1/1\n",
      "6528/6528 [==============================] - 4s 686us/step - loss: 0.0089\n",
      "Epoch: 20\n",
      "Epoch 1/1\n",
      "6528/6528 [==============================] - 5s 738us/step - loss: 0.0083\n",
      "Epoch: 21\n",
      "Epoch 1/1\n",
      "6528/6528 [==============================] - 5s 703us/step - loss: 0.0112\n",
      "Epoch: 22\n",
      "Epoch 1/1\n",
      "6528/6528 [==============================] - 4s 672us/step - loss: 0.0080\n",
      "Epoch: 23\n",
      "Epoch 1/1\n",
      "6528/6528 [==============================] - 4s 688us/step - loss: 0.0111\n",
      "Epoch: 24\n",
      "Epoch 1/1\n",
      "6528/6528 [==============================] - 4s 669us/step - loss: 0.0083\n",
      "Epoch: 25\n",
      "Epoch 1/1\n",
      "6528/6528 [==============================] - 4s 677us/step - loss: 0.0121\n",
      "Epoch: 26\n",
      "Epoch 1/1\n",
      "6528/6528 [==============================] - 5s 798us/step - loss: 0.0075\n",
      "Epoch: 27\n",
      "Epoch 1/1\n",
      "6528/6528 [==============================] - 6s 907us/step - loss: 0.0106 0s - \n",
      "Epoch: 28\n",
      "Epoch 1/1\n",
      "6528/6528 [==============================] - 5s 752us/step - loss: 0.0075\n",
      "Epoch: 29\n",
      "Epoch 1/1\n",
      "6528/6528 [==============================] - 5s 714us/step - loss: 0.0113\n",
      "Epoch: 30\n",
      "Epoch 1/1\n",
      "6528/6528 [==============================] - 4s 684us/step - loss: 0.0071\n",
      "Epoch: 31\n",
      "Epoch 1/1\n",
      "6528/6528 [==============================] - 5s 759us/step - loss: 0.0107\n",
      "Epoch: 32\n",
      "Epoch 1/1\n",
      "6528/6528 [==============================] - 4s 665us/step - loss: 0.0068\n",
      "Epoch: 33\n",
      "Epoch 1/1\n",
      "6528/6528 [==============================] - ETA: 0s - loss: 0.010 - 4s 667us/step - loss: 0.0105\n",
      "Epoch: 34\n",
      "Epoch 1/1\n",
      "6528/6528 [==============================] - 6s 922us/step - loss: 0.0066\n",
      "Epoch: 35\n",
      "Epoch 1/1\n",
      "6528/6528 [==============================] - 6s 890us/step - loss: 0.0102\n",
      "Epoch: 36\n",
      "Epoch 1/1\n",
      "6528/6528 [==============================] - 5s 801us/step - loss: 0.0065\n",
      "Epoch: 37\n",
      "Epoch 1/1\n",
      "6528/6528 [==============================] - 6s 893us/step - loss: 0.0100\n",
      "Epoch: 38\n",
      "Epoch 1/1\n",
      "6528/6528 [==============================] - 6s 901us/step - loss: 0.0064\n",
      "Epoch: 39\n",
      "Epoch 1/1\n",
      "6528/6528 [==============================] - 5s 828us/step - loss: 0.0097\n",
      "Epoch: 40\n",
      "Epoch 1/1\n",
      "6528/6528 [==============================] - 5s 817us/step - loss: 0.0062\n",
      "Epoch: 41\n",
      "Epoch 1/1\n",
      "6528/6528 [==============================] - 5s 805us/step - loss: 0.0094\n",
      "Epoch: 42\n",
      "Epoch 1/1\n",
      "6528/6528 [==============================] - 6s 849us/step - loss: 0.0059\n",
      "Epoch: 43\n",
      "Epoch 1/1\n",
      "6528/6528 [==============================] - 5s 842us/step - loss: 0.0092\n",
      "Epoch: 44\n",
      "Epoch 1/1\n",
      "6528/6528 [==============================] - 6s 857us/step - loss: 0.0053\n",
      "Epoch: 45\n",
      "Epoch 1/1\n",
      "6528/6528 [==============================] - 6s 940us/step - loss: 0.0086\n",
      "Epoch: 46\n",
      "Epoch 1/1\n",
      "6528/6528 [==============================] - 6s 992us/step - loss: 0.0050\n",
      "Epoch: 47\n",
      "Epoch 1/1\n",
      "6528/6528 [==============================] - 6s 882us/step - loss: 0.0083\n",
      "Epoch: 48\n",
      "Epoch 1/1\n",
      "6528/6528 [==============================] - 6s 860us/step - loss: 0.0049\n",
      "Epoch: 49\n",
      "Epoch 1/1\n",
      "6528/6528 [==============================] - 6s 898us/step - loss: 0.0086\n",
      "Epoch: 50\n",
      "Epoch 1/1\n",
      "6528/6528 [==============================] - 6s 856us/step - loss: 0.0057\n",
      "Epoch: 51\n",
      "Epoch 1/1\n",
      "6528/6528 [==============================] - 5s 832us/step - loss: 0.0083\n",
      "Epoch: 52\n",
      "Epoch 1/1\n",
      "6528/6528 [==============================] - 6s 884us/step - loss: 0.0042\n",
      "Epoch: 53\n",
      "Epoch 1/1\n",
      "6528/6528 [==============================] - 5s 836us/step - loss: 0.0076\n",
      "Epoch: 54\n",
      "Epoch 1/1\n",
      "6528/6528 [==============================] - 6s 893us/step - loss: 0.0033\n",
      "Epoch: 55\n",
      "Epoch 1/1\n",
      "6528/6528 [==============================] - 6s 847us/step - loss: 0.0032\n",
      "Epoch: 56\n",
      "Epoch 1/1\n",
      "6528/6528 [==============================] - 6s 871us/step - loss: 0.0026 0s - los\n",
      "Epoch: 57\n",
      "Epoch 1/1\n",
      "6528/6528 [==============================] - 6s 857us/step - loss: 0.0032\n",
      "Epoch: 58\n",
      "Epoch 1/1\n",
      "6528/6528 [==============================] - 6s 845us/step - loss: 0.0027\n",
      "Epoch: 59\n",
      "Epoch 1/1\n",
      "6528/6528 [==============================] - 6s 848us/step - loss: 0.0033\n",
      "Epoch: 60\n",
      "Epoch 1/1\n",
      "6528/6528 [==============================] - 6s 860us/step - loss: 0.0045\n",
      "Epoch: 61\n",
      "Epoch 1/1\n",
      "6528/6528 [==============================] - 6s 849us/step - loss: 0.0022\n",
      "Epoch: 62\n",
      "Epoch 1/1\n",
      "6528/6528 [==============================] - 6s 875us/step - loss: 0.0028\n",
      "Epoch: 63\n",
      "Epoch 1/1\n",
      "6528/6528 [==============================] - 6s 968us/step - loss: 0.0047\n",
      "Epoch: 64\n",
      "Epoch 1/1\n",
      "6528/6528 [==============================] - 6s 946us/step - loss: 0.0016\n",
      "Epoch: 65\n",
      "Epoch 1/1\n",
      "6528/6528 [==============================] - 6s 923us/step - loss: 0.0015\n",
      "Epoch: 66\n",
      "Epoch 1/1\n",
      "6528/6528 [==============================] - 6s 875us/step - loss: 0.0017\n",
      "Epoch: 67\n",
      "Epoch 1/1\n",
      "6528/6528 [==============================] - 6s 890us/step - loss: 0.0025 0s - loss: 0\n",
      "Epoch: 68\n",
      "Epoch 1/1\n",
      "6528/6528 [==============================] - 6s 859us/step - loss: 0.0025\n",
      "Epoch: 69\n",
      "Epoch 1/1\n",
      "6528/6528 [==============================] - 6s 879us/step - loss: 0.0014\n",
      "Epoch: 70\n",
      "Epoch 1/1\n",
      "6528/6528 [==============================] - 6s 872us/step - loss: 0.0028 0s - loss: 0.0\n",
      "Epoch: 71\n",
      "Epoch 1/1\n",
      "6528/6528 [==============================] - 6s 854us/step - loss: 0.0019\n",
      "Epoch: 72\n",
      "Epoch 1/1\n",
      "6528/6528 [==============================] - 6s 915us/step - loss: 0.0022\n",
      "Epoch: 73\n",
      "Epoch 1/1\n",
      "6528/6528 [==============================] - 6s 883us/step - loss: 0.0037\n",
      "Epoch: 74\n",
      "Epoch 1/1\n",
      "6528/6528 [==============================] - 6s 887us/step - loss: 0.0032\n",
      "Epoch: 75\n",
      "Epoch 1/1\n",
      "6528/6528 [==============================] - 6s 893us/step - loss: 0.0024A: 0s \n",
      "Epoch: 76\n",
      "Epoch 1/1\n",
      "6528/6528 [==============================] - 6s 952us/step - loss: 0.0045\n",
      "Epoch: 77\n",
      "Epoch 1/1\n",
      "6528/6528 [==============================] - 6s 887us/step - loss: 0.0038\n",
      "Epoch: 78\n",
      "Epoch 1/1\n",
      "6528/6528 [==============================] - 6s 875us/step - loss: 0.0023\n",
      "Epoch: 79\n",
      "Epoch 1/1\n",
      "6528/6528 [==============================] - 5s 814us/step - loss: 0.0018\n",
      "Epoch: 80\n",
      "Epoch 1/1\n",
      "6528/6528 [==============================] - 5s 829us/step - loss: 0.0020\n",
      "Epoch: 81\n",
      "Epoch 1/1\n",
      "6528/6528 [==============================] - 7s 1ms/step - loss: 0.0018\n",
      "Epoch: 82\n",
      "Epoch 1/1\n",
      "6528/6528 [==============================] - 6s 905us/step - loss: 0.0018\n",
      "Epoch: 83\n",
      "Epoch 1/1\n",
      "6528/6528 [==============================] - 6s 950us/step - loss: 0.0026\n",
      "Epoch: 84\n",
      "Epoch 1/1\n",
      "6528/6528 [==============================] - 6s 924us/step - loss: 0.0026\n",
      "Epoch: 85\n",
      "Epoch 1/1\n",
      "6528/6528 [==============================] - 5s 822us/step - loss: 0.0030\n",
      "Epoch: 86\n",
      "Epoch 1/1\n"
     ]
    },
    {
     "name": "stdout",
     "output_type": "stream",
     "text": [
      "6528/6528 [==============================] - 5s 739us/step - loss: 0.0027\n",
      "Epoch: 87\n",
      "Epoch 1/1\n",
      "6528/6528 [==============================] - 5s 786us/step - loss: 0.0027\n",
      "Epoch: 88\n",
      "Epoch 1/1\n",
      "6528/6528 [==============================] - 5s 757us/step - loss: 0.0019 0s - \n",
      "Epoch: 89\n",
      "Epoch 1/1\n",
      "6528/6528 [==============================] - 5s 797us/step - loss: 0.0015\n",
      "Epoch: 90\n",
      "Epoch 1/1\n",
      "6528/6528 [==============================] - 6s 862us/step - loss: 0.0018\n",
      "Epoch: 91\n",
      "Epoch 1/1\n",
      "6528/6528 [==============================] - 5s 824us/step - loss: 0.0053\n",
      "Epoch: 92\n",
      "Epoch 1/1\n",
      "6528/6528 [==============================] - 5s 807us/step - loss: 0.0055\n",
      "Epoch: 93\n",
      "Epoch 1/1\n",
      "6528/6528 [==============================] - 6s 861us/step - loss: 0.0020\n",
      "Epoch: 94\n",
      "Epoch 1/1\n",
      "6528/6528 [==============================] - 5s 803us/step - loss: 0.0013\n",
      "Epoch: 95\n",
      "Epoch 1/1\n",
      "6528/6528 [==============================] - 5s 807us/step - loss: 0.0047\n",
      "Epoch: 96\n",
      "Epoch 1/1\n",
      "6528/6528 [==============================] - 5s 767us/step - loss: 0.0022\n",
      "Epoch: 97\n",
      "Epoch 1/1\n",
      "6528/6528 [==============================] - 5s 813us/step - loss: 0.0016\n",
      "Epoch: 98\n",
      "Epoch 1/1\n",
      "6528/6528 [==============================] - 5s 776us/step - loss: 0.0037\n",
      "Epoch: 99\n",
      "Epoch 1/1\n",
      "6528/6528 [==============================] - 6s 911us/step - loss: 0.0060\n",
      "Epoch: 100\n",
      "Epoch 1/1\n",
      "6528/6528 [==============================] - 6s 887us/step - loss: 0.0057\n",
      "Epoch: 101\n",
      "Epoch 1/1\n",
      "6528/6528 [==============================] - 6s 890us/step - loss: 0.0047\n",
      "Epoch: 102\n",
      "Epoch 1/1\n",
      "6528/6528 [==============================] - 5s 820us/step - loss: 0.0016\n",
      "Epoch: 103\n",
      "Epoch 1/1\n",
      "6528/6528 [==============================] - 6s 847us/step - loss: 0.0032\n",
      "Epoch: 104\n",
      "Epoch 1/1\n",
      "6528/6528 [==============================] - 6s 885us/step - loss: 0.0023\n",
      "Epoch: 105\n",
      "Epoch 1/1\n",
      "6528/6528 [==============================] - 6s 909us/step - loss: 0.0026\n",
      "Epoch: 106\n",
      "Epoch 1/1\n",
      "6528/6528 [==============================] - 7s 1ms/step - loss: 0.0014\n",
      "Epoch: 107\n",
      "Epoch 1/1\n",
      "6528/6528 [==============================] - 6s 881us/step - loss: 0.0016\n",
      "Epoch: 108\n",
      "Epoch 1/1\n",
      "6528/6528 [==============================] - 6s 874us/step - loss: 0.0028\n",
      "Epoch: 109\n",
      "Epoch 1/1\n",
      "6528/6528 [==============================] - 5s 837us/step - loss: 0.0014\n",
      "Epoch: 110\n",
      "Epoch 1/1\n",
      "6528/6528 [==============================] - 6s 865us/step - loss: 0.0023\n",
      "Epoch: 111\n",
      "Epoch 1/1\n",
      "6528/6528 [==============================] - 6s 866us/step - loss: 0.0020\n",
      "Epoch: 112\n",
      "Epoch 1/1\n",
      "6528/6528 [==============================] - 6s 867us/step - loss: 0.0022\n",
      "Epoch: 113\n",
      "Epoch 1/1\n",
      "6528/6528 [==============================] - 5s 842us/step - loss: 0.0025\n",
      "Epoch: 114\n",
      "Epoch 1/1\n",
      "6528/6528 [==============================] - 6s 906us/step - loss: 0.0016\n",
      "Epoch: 115\n",
      "Epoch 1/1\n",
      "6528/6528 [==============================] - 6s 891us/step - loss: 0.0042 0s - loss\n",
      "Epoch: 116\n",
      "Epoch 1/1\n",
      "6528/6528 [==============================] - 6s 919us/step - loss: 0.0043\n",
      "Epoch: 117\n",
      "Epoch 1/1\n",
      "6528/6528 [==============================] - 6s 921us/step - loss: 0.0040\n",
      "Epoch: 118\n",
      "Epoch 1/1\n",
      "6528/6528 [==============================] - 6s 892us/step - loss: 0.0020\n",
      "Epoch: 119\n",
      "Epoch 1/1\n",
      "6528/6528 [==============================] - 6s 865us/step - loss: 0.0042\n"
     ]
    }
   ],
   "source": [
    "for i in range(epochs):\n",
    "    print(\"Epoch: \" + str(i))\n",
    "    #run through all data but the cell, hidden state are used for the next batch.\n",
    "    regressor_mae.fit(X_train, y_train, shuffle=False, epochs = 1, batch_size = batch_size)\n",
    "    #resets only the states but the weights, cell and hidden are kept.\n",
    "    regressor_mae.reset_states()"
   ]
  },
  {
   "cell_type": "code",
   "execution_count": 92,
   "metadata": {},
   "outputs": [],
   "source": [
    "import h5py\n",
    "regressor_mse.save(filepath='crudeoil_price.h5')\n",
    "regressor_mse = load_model('crudeoil_price.h5')"
   ]
  },
  {
   "cell_type": "code",
   "execution_count": 93,
   "metadata": {},
   "outputs": [],
   "source": [
    "def get_test_length(dataset, batch_size):\n",
    "    \n",
    "    test_length_values = []\n",
    "    for x in range(len(dataset) - 200, len(dataset) - timesteps*2): \n",
    "        modulo=(x-upper_train)%batch_size\n",
    "        if (modulo == 0):\n",
    "            test_length_values.append(x)\n",
    "            print(x)\n",
    "    return (max(test_length_values))"
   ]
  },
  {
   "cell_type": "code",
   "execution_count": 94,
   "metadata": {},
   "outputs": [
    {
     "name": "stdout",
     "output_type": "stream",
     "text": [
      "8060\n",
      "8124\n"
     ]
    },
    {
     "data": {
      "text/plain": [
       "8124"
      ]
     },
     "execution_count": 94,
     "metadata": {},
     "output_type": "execute_result"
    }
   ],
   "source": [
    "test_length=get_test_length(data,batch_size)\n",
    "test_length"
   ]
  },
  {
   "cell_type": "code",
   "execution_count": 95,
   "metadata": {},
   "outputs": [
    {
     "name": "stdout",
     "output_type": "stream",
     "text": [
      "1536\n"
     ]
    }
   ],
   "source": [
    "upper_test=test_length + timesteps*2\n",
    "testset_length = test_length - upper_train\n",
    "print(testset_length)"
   ]
  },
  {
   "cell_type": "code",
   "execution_count": 96,
   "metadata": {},
   "outputs": [
    {
     "name": "stdout",
     "output_type": "stream",
     "text": [
      "6588 8184 8223\n"
     ]
    }
   ],
   "source": [
    "print(upper_train, upper_test, len(data))"
   ]
  },
  {
   "cell_type": "code",
   "execution_count": 97,
   "metadata": {},
   "outputs": [],
   "source": [
    "data_test=data[upper_train:upper_test]\n",
    "test_set =data.iloc[:,1:2].values"
   ]
  },
  {
   "cell_type": "code",
   "execution_count": 98,
   "metadata": {},
   "outputs": [],
   "source": [
    "#scaling\n",
    "scaled_real_bcg_values_test = sc.fit_transform(np.float64(test_set))\n",
    "\n",
    "#creating input data\n",
    "X_test = []\n",
    "for i in range(timesteps, testset_length + timesteps):\n",
    "    X_test.append(scaled_real_bcg_values_test[i-timesteps:i, 0])\n",
    "X_test = np.array(X_test)\n",
    "\n",
    "\n",
    "#reshaping\n",
    "X_test = np.reshape(X_test, (X_test.shape[0], X_test.shape[1], 1))"
   ]
  },
  {
   "cell_type": "code",
   "execution_count": 99,
   "metadata": {},
   "outputs": [
    {
     "data": {
      "text/plain": [
       "(1536, 30, 1)"
      ]
     },
     "execution_count": 99,
     "metadata": {},
     "output_type": "execute_result"
    }
   ],
   "source": [
    "X_test.shape"
   ]
  },
  {
   "cell_type": "code",
   "execution_count": 100,
   "metadata": {},
   "outputs": [],
   "source": [
    "predict_bcg_mae= regressor_mae.predict(X_test,batch_size=batch_size)\n",
    "regressor_mae.reset_states()"
   ]
  },
  {
   "cell_type": "code",
   "execution_count": 101,
   "metadata": {},
   "outputs": [
    {
     "data": {
      "text/plain": [
       "(1536, 30, 1)"
      ]
     },
     "execution_count": 101,
     "metadata": {},
     "output_type": "execute_result"
    }
   ],
   "source": [
    "predict_bcg_mae.shape"
   ]
  },
  {
   "cell_type": "code",
   "execution_count": 102,
   "metadata": {},
   "outputs": [],
   "source": [
    "predict_bcg_mae = np.reshape(predict_bcg_mae, \n",
    "                                       (predict_bcg_mae.shape[0], \n",
    "                                        predict_bcg_mae.shape[1]))"
   ]
  },
  {
   "cell_type": "code",
   "execution_count": 103,
   "metadata": {},
   "outputs": [
    {
     "data": {
      "text/plain": [
       "(1536, 30)"
      ]
     },
     "execution_count": 103,
     "metadata": {},
     "output_type": "execute_result"
    }
   ],
   "source": [
    "predict_bcg_mae.shape"
   ]
  },
  {
   "cell_type": "code",
   "execution_count": 104,
   "metadata": {},
   "outputs": [
    {
     "name": "stdout",
     "output_type": "stream",
     "text": [
      "(1506, 1)\n"
     ]
    }
   ],
   "source": [
    "predict_bcg_mae = sc.inverse_transform(predict_bcg_mae)\n",
    "\n",
    "\n",
    "#creating y_test data\n",
    "Y_test = []\n",
    "for j in range(0, testset_length - timesteps):\n",
    "    Y_test = np.append(Y_test, predict_bcg_mae[j, timesteps-1])\n",
    "\n",
    "# reshaping\n",
    "Y_test = np.reshape(Y_test, (Y_test.shape[0], 1))\n",
    "\n",
    "print(Y_test.shape)"
   ]
  },
  {
   "cell_type": "code",
   "execution_count": 105,
   "metadata": {},
   "outputs": [
    {
     "data": {
      "image/png": "[encoded data removed]",
      "text/plain": [
       "<Figure size 432x288 with 1 Axes>"
      ]
     },
     "metadata": {
      "needs_background": "light"
     },
     "output_type": "display_data"
    }
   ],
   "source": [
    "plt.plot(test_set[timesteps:len(Y_test)].astype(float), color = 'red', label = 'Real Crude Oil Prices')\n",
    "plt.plot(Y_test[0:len(Y_test) - timesteps].astype(float), color = 'blue', label = 'Predicted Crude Oil Prices')\n",
    "plt.title('Crude Oil Prices Prediction - MAE')\n",
    "plt.xlabel('Time')\n",
    "plt.ylabel('Crude Oil Prices')\n",
    "plt.legend()\n",
    "plt.show()"
   ]
  },
  {
   "cell_type": "code",
   "execution_count": 77,
   "metadata": {},
   "outputs": [
    {
     "name": "stdout",
     "output_type": "stream",
     "text": [
      "2851.8633646197964\n"
     ]
    }
   ],
   "source": [
    "#MSE (mean sqared error)\n",
    "import math\n",
    "from sklearn.metrics import mean_squared_error\n",
    "rmse = math.sqrt(mean_squared_error(test_set[timesteps:len(Y_test)], Y_test[0:len(Y_test) - timesteps]))\n",
    "print(rmse)"
   ]
  },
  {
   "cell_type": "code",
   "execution_count": 78,
   "metadata": {},
   "outputs": [
    {
     "name": "stdout",
     "output_type": "stream",
     "text": [
      "Model: \"model_2\"\n",
      "_________________________________________________________________\n",
      "Layer (type)                 Output Shape              Param #   \n",
      "=================================================================\n",
      "input_3 (InputLayer)         (64, 30, 1)               0         \n",
      "_________________________________________________________________\n",
      "lstm_5 (LSTM)                (64, 30, 10)              480       \n",
      "_________________________________________________________________\n",
      "lstm_6 (LSTM)                (64, 30, 10)              840       \n",
      "_________________________________________________________________\n",
      "dense_3 (Dense)              (64, 30, 1)               11        \n",
      "=================================================================\n",
      "Total params: 1,331\n",
      "Trainable params: 1,331\n",
      "Non-trainable params: 0\n",
      "_________________________________________________________________\n"
     ]
    }
   ],
   "source": [
    "# Initialising the LSTM Model with MSE Loss Function\n",
    "\n",
    "inputs_1_mse = Input(batch_shape=(batch_size,timesteps,1))\n",
    "lstm_1_mse = LSTM(10, stateful=True, return_sequences=True)(inputs_1_mse)\n",
    "lstm_2_mse = LSTM(10, stateful=True, return_sequences=True)(lstm_1_mse)\n",
    "\n",
    "output_1_mse = Dense(units = 1)(lstm_2_mse)\n",
    "\n",
    "regressor_mse = Model(inputs=inputs_1_mse, outputs = output_1_mse)\n",
    "\n",
    "#mse -> mean squared error as loss function\n",
    "regressor_mse.compile(optimizer='adam', loss = 'mse')\n",
    "regressor_mse.summary()"
   ]
  },
  {
   "cell_type": "code",
   "execution_count": 79,
   "metadata": {},
   "outputs": [
    {
     "name": "stdout",
     "output_type": "stream",
     "text": [
      "Epoch: 0\n",
      "Epoch 1/1\n",
      "6528/6528 [==============================] - 6s 929us/step - loss: 0.0028\n",
      "Epoch: 1\n",
      "Epoch 1/1\n",
      "6528/6528 [==============================] - 7s 1ms/step - loss: 0.0017\n",
      "Epoch: 2\n",
      "Epoch 1/1\n",
      "6528/6528 [==============================] - 4s 665us/step - loss: 0.0010\n",
      "Epoch: 3\n",
      "Epoch 1/1\n",
      "6528/6528 [==============================] - 4s 666us/step - loss: 8.3236e-04\n",
      "Epoch: 4\n",
      "Epoch 1/1\n",
      "6528/6528 [==============================] - 4s 658us/step - loss: 7.7131e-04\n",
      "Epoch: 5\n",
      "Epoch 1/1\n",
      "6528/6528 [==============================] - 5s 750us/step - loss: 7.1285e-04 0s - loss: \n",
      "Epoch: 6\n",
      "Epoch 1/1\n",
      "6528/6528 [==============================] - 4s 670us/step - loss: 6.5871e-04\n",
      "Epoch: 7\n",
      "Epoch 1/1\n",
      "6528/6528 [==============================] - 4s 682us/step - loss: 6.0730e-04\n",
      "Epoch: 8\n",
      "Epoch 1/1\n",
      "6528/6528 [==============================] - 5s 755us/step - loss: 5.6142e-04 1s - l\n",
      "Epoch: 9\n",
      "Epoch 1/1\n",
      "6528/6528 [==============================] - 5s 693us/step - loss: 5.2137e-04\n",
      "Epoch: 10\n",
      "Epoch 1/1\n",
      "6528/6528 [==============================] - 5s 696us/step - loss: 4.8723e-04\n",
      "Epoch: 11\n",
      "Epoch 1/1\n",
      "6528/6528 [==============================] - 5s 814us/step - loss: 4.6121e-04\n",
      "Epoch: 12\n",
      "Epoch 1/1\n",
      "6528/6528 [==============================] - 5s 697us/step - loss: 4.3408e-04\n",
      "Epoch: 13\n",
      "Epoch 1/1\n",
      "6528/6528 [==============================] - 4s 688us/step - loss: 4.2361e-04\n",
      "Epoch: 14\n",
      "Epoch 1/1\n",
      "6528/6528 [==============================] - 5s 707us/step - loss: 3.9144e-04\n",
      "Epoch: 15\n",
      "Epoch 1/1\n",
      "6528/6528 [==============================] - 5s 693us/step - loss: 4.0993e-04\n",
      "Epoch: 16\n",
      "Epoch 1/1\n",
      "6528/6528 [==============================] - 5s 706us/step - loss: 3.6337e-04\n",
      "Epoch: 17\n",
      "Epoch 1/1\n",
      "6528/6528 [==============================] - 5s 706us/step - loss: 4.4653e-04\n",
      "Epoch: 18\n",
      "Epoch 1/1\n",
      "6528/6528 [==============================] - 5s 695us/step - loss: 4.4680e-04\n",
      "Epoch: 19\n",
      "Epoch 1/1\n",
      "6528/6528 [==============================] - 5s 690us/step - loss: 7.2022e-04\n",
      "Epoch: 20\n",
      "Epoch 1/1\n",
      "6528/6528 [==============================] - 5s 707us/step - loss: 8.4914e-04\n",
      "Epoch: 21\n",
      "Epoch 1/1\n",
      "6528/6528 [==============================] - 5s 702us/step - loss: 4.7302e-04\n",
      "Epoch: 22\n",
      "Epoch 1/1\n",
      "6528/6528 [==============================] - 5s 702us/step - loss: 3.4586e-04\n",
      "Epoch: 23\n",
      "Epoch 1/1\n",
      "6528/6528 [==============================] - 5s 757us/step - loss: 3.1518e-04\n",
      "Epoch: 24\n",
      "Epoch 1/1\n",
      "6528/6528 [==============================] - 5s 733us/step - loss: 2.8659e-04\n",
      "Epoch: 25\n",
      "Epoch 1/1\n",
      "6528/6528 [==============================] - 6s 889us/step - loss: 2.7479e-04\n",
      "Epoch: 26\n",
      "Epoch 1/1\n",
      "6528/6528 [==============================] - 5s 726us/step - loss: 2.6466e-04\n",
      "Epoch: 27\n",
      "Epoch 1/1\n",
      "6528/6528 [==============================] - 7s 1ms/step - loss: 2.5728e-04\n",
      "Epoch: 28\n",
      "Epoch 1/1\n",
      "6528/6528 [==============================] - 5s 746us/step - loss: 2.4929e-04\n",
      "Epoch: 29\n",
      "Epoch 1/1\n",
      "6528/6528 [==============================] - 5s 762us/step - loss: 2.5251e-04 1s - lo\n",
      "Epoch: 30\n",
      "Epoch 1/1\n",
      "6528/6528 [==============================] - 5s 740us/step - loss: 2.5168e-04\n",
      "Epoch: 31\n",
      "Epoch 1/1\n",
      "6528/6528 [==============================] - 6s 861us/step - loss: 3.1246e-04\n",
      "Epoch: 32\n",
      "Epoch 1/1\n",
      "6528/6528 [==============================] - 6s 897us/step - loss: 3.7812e-04 3s - \n",
      "Epoch: 33\n",
      "Epoch 1/1\n",
      "6528/6528 [==============================] - 5s 833us/step - loss: 5.2055e-04\n",
      "Epoch: 34\n",
      "Epoch 1/1\n",
      "6528/6528 [==============================] - 6s 871us/step - loss: 4.2278e-04 0s - loss: \n",
      "Epoch: 35\n",
      "Epoch 1/1\n",
      "6528/6528 [==============================] - 5s 752us/step - loss: 3.3254e-04\n",
      "Epoch: 36\n",
      "Epoch 1/1\n",
      "6528/6528 [==============================] - 5s 752us/step - loss: 2.5515e-04\n",
      "Epoch: 37\n",
      "Epoch 1/1\n",
      "6528/6528 [==============================] - 5s 771us/step - loss: 2.2727e-04 0s - loss: \n",
      "Epoch: 38\n",
      "Epoch 1/1\n",
      "6528/6528 [==============================] - 5s 791us/step - loss: 2.0517e-04\n",
      "Epoch: 39\n",
      "Epoch 1/1\n",
      "6528/6528 [==============================] - 5s 840us/step - loss: 2.0053e-04 0s - loss: 1.\n",
      "Epoch: 40\n",
      "Epoch 1/1\n",
      "6528/6528 [==============================] - 5s 789us/step - loss: 1.9066e-04\n",
      "Epoch: 41\n",
      "Epoch 1/1\n",
      "6528/6528 [==============================] - 5s 753us/step - loss: 1.9917e-04\n",
      "Epoch: 42\n",
      "Epoch 1/1\n",
      "6528/6528 [==============================] - 5s 775us/step - loss: 1.9585e-04\n",
      "Epoch: 43\n",
      "Epoch 1/1\n",
      "6528/6528 [==============================] - 5s 757us/step - loss: 2.3266e-04\n",
      "Epoch: 44\n",
      "Epoch 1/1\n",
      "6528/6528 [==============================] - 5s 763us/step - loss: 2.4104e-04\n",
      "Epoch: 45\n",
      "Epoch 1/1\n",
      "6528/6528 [==============================] - 5s 758us/step - loss: 3.0317e-04\n",
      "Epoch: 46\n",
      "Epoch 1/1\n",
      "6528/6528 [==============================] - 6s 943us/step - loss: 2.7117e-04\n",
      "Epoch: 47\n",
      "Epoch 1/1\n",
      "6528/6528 [==============================] - 5s 765us/step - loss: 2.7219e-04\n",
      "Epoch: 48\n",
      "Epoch 1/1\n",
      "6528/6528 [==============================] - 5s 787us/step - loss: 2.1261e-04 1s - lo\n",
      "Epoch: 49\n",
      "Epoch 1/1\n",
      "6528/6528 [==============================] - 5s 784us/step - loss: 2.0080e-04 1s -  - ETA: 0s - loss: 1.\n",
      "Epoch: 50\n",
      "Epoch 1/1\n",
      "6528/6528 [==============================] - 5s 840us/step - loss: 1.6974e-04\n",
      "Epoch: 51\n",
      "Epoch 1/1\n",
      "6528/6528 [==============================] - 6s 886us/step - loss: 1.7111e-04\n",
      "Epoch: 52\n",
      "Epoch 1/1\n",
      "6528/6528 [==============================] - 5s 817us/step - loss: 1.5359e-04\n",
      "Epoch: 53\n",
      "Epoch 1/1\n",
      "6528/6528 [==============================] - 6s 852us/step - loss: 1.6625e-04\n",
      "Epoch: 54\n",
      "Epoch 1/1\n",
      "6528/6528 [==============================] - 5s 797us/step - loss: 1.5391e-04\n",
      "Epoch: 55\n",
      "Epoch 1/1\n",
      "6528/6528 [==============================] - 5s 780us/step - loss: 1.7934e-04\n",
      "Epoch: 56\n",
      "Epoch 1/1\n",
      "6528/6528 [==============================] - 5s 782us/step - loss: 1.6636e-04\n",
      "Epoch: 57\n",
      "Epoch 1/1\n",
      "6528/6528 [==============================] - 5s 775us/step - loss: 1.9832e-04\n",
      "Epoch: 58\n",
      "Epoch 1/1\n",
      "6528/6528 [==============================] - 5s 767us/step - loss: 1.7297e-04\n",
      "Epoch: 59\n",
      "Epoch 1/1\n",
      "6528/6528 [==============================] - 5s 778us/step - loss: 1.9360e-04\n",
      "Epoch: 60\n",
      "Epoch 1/1\n",
      "6528/6528 [==============================] - 5s 791us/step - loss: 1.5727e-04\n",
      "Epoch: 61\n",
      "Epoch 1/1\n",
      "6528/6528 [==============================] - 5s 770us/step - loss: 1.6740e-04\n",
      "Epoch: 62\n",
      "Epoch 1/1\n",
      "6528/6528 [==============================] - 5s 765us/step - loss: 1.3565e-04\n",
      "Epoch: 63\n",
      "Epoch 1/1\n",
      "6528/6528 [==============================] - 6s 901us/step - loss: 1.4614e-04\n",
      "Epoch: 64\n",
      "Epoch 1/1\n",
      "6528/6528 [==============================] - 5s 785us/step - loss: 1.2185e-04\n",
      "Epoch: 65\n",
      "Epoch 1/1\n",
      "6528/6528 [==============================] - 5s 771us/step - loss: 1.3674e-04\n",
      "Epoch: 66\n",
      "Epoch 1/1\n",
      "6528/6528 [==============================] - 5s 774us/step - loss: 1.1659e-04\n",
      "Epoch: 67\n",
      "Epoch 1/1\n",
      "6528/6528 [==============================] - 5s 812us/step - loss: 1.3646e-04\n",
      "Epoch: 68\n",
      "Epoch 1/1\n",
      "6528/6528 [==============================] - 5s 825us/step - loss: 1.1678e-04\n",
      "Epoch: 69\n",
      "Epoch 1/1\n",
      "6528/6528 [==============================] - 6s 919us/step - loss: 1.3941e-04 0s - los\n",
      "Epoch: 70\n",
      "Epoch 1/1\n",
      "6528/6528 [==============================] - 6s 875us/step - loss: 1.1686e-04\n",
      "Epoch: 71\n",
      "Epoch 1/1\n",
      "6528/6528 [==============================] - 5s 779us/step - loss: 1.3773e-04\n",
      "Epoch: 72\n",
      "Epoch 1/1\n",
      "6528/6528 [==============================] - 5s 789us/step - loss: 1.1225e-04\n",
      "Epoch: 73\n",
      "Epoch 1/1\n",
      "6528/6528 [==============================] - 5s 763us/step - loss: 1.2961e-04\n",
      "Epoch: 74\n",
      "Epoch 1/1\n",
      "6528/6528 [==============================] - 5s 781us/step - loss: 1.0484e-04\n",
      "Epoch: 75\n",
      "Epoch 1/1\n",
      "6528/6528 [==============================] - 5s 790us/step - loss: 1.2072e-04\n",
      "Epoch: 76\n",
      "Epoch 1/1\n",
      "6528/6528 [==============================] - 5s 774us/step - loss: 9.7716e-05\n",
      "Epoch: 77\n",
      "Epoch 1/1\n",
      "6528/6528 [==============================] - 5s 771us/step - loss: 1.1355e-04\n",
      "Epoch: 78\n",
      "Epoch 1/1\n",
      "6528/6528 [==============================] - 5s 781us/step - loss: 9.0519e-05\n",
      "Epoch: 79\n",
      "Epoch 1/1\n",
      "6528/6528 [==============================] - 5s 782us/step - loss: 1.0605e-04\n",
      "Epoch: 80\n",
      "Epoch 1/1\n",
      "6528/6528 [==============================] - 5s 803us/step - loss: 8.3736e-05\n",
      "Epoch: 81\n",
      "Epoch 1/1\n",
      "6528/6528 [==============================] - 5s 788us/step - loss: 9.9021e-05\n",
      "Epoch: 82\n",
      "Epoch 1/1\n"
     ]
    },
    {
     "name": "stdout",
     "output_type": "stream",
     "text": [
      "6528/6528 [==============================] - 5s 751us/step - loss: 7.8612e-05\n",
      "Epoch: 83\n",
      "Epoch 1/1\n",
      "6528/6528 [==============================] - 5s 767us/step - loss: 9.4245e-05\n",
      "Epoch: 84\n",
      "Epoch 1/1\n",
      "6528/6528 [==============================] - 5s 762us/step - loss: 7.5546e-05\n",
      "Epoch: 85\n",
      "Epoch 1/1\n",
      "6528/6528 [==============================] - 5s 775us/step - loss: 9.1589e-05\n",
      "Epoch: 86\n",
      "Epoch 1/1\n",
      "6528/6528 [==============================] - 5s 754us/step - loss: 7.3817e-05\n",
      "Epoch: 87\n",
      "Epoch 1/1\n",
      "6528/6528 [==============================] - 5s 776us/step - loss: 8.9589e-05\n",
      "Epoch: 88\n",
      "Epoch 1/1\n",
      "6528/6528 [==============================] - 5s 757us/step - loss: 7.2279e-05\n",
      "Epoch: 89\n",
      "Epoch 1/1\n",
      "6528/6528 [==============================] - 6s 871us/step - loss: 8.7030e-05\n",
      "Epoch: 90\n",
      "Epoch 1/1\n",
      "6528/6528 [==============================] - 5s 777us/step - loss: 7.0150e-05\n",
      "Epoch: 91\n",
      "Epoch 1/1\n",
      "6528/6528 [==============================] - 5s 795us/step - loss: 8.3657e-05\n",
      "Epoch: 92\n",
      "Epoch 1/1\n",
      "6528/6528 [==============================] - 5s 800us/step - loss: 6.6583e-05\n",
      "Epoch: 93\n",
      "Epoch 1/1\n",
      "6528/6528 [==============================] - 5s 777us/step - loss: 7.9243e-05\n",
      "Epoch: 94\n",
      "Epoch 1/1\n",
      "6528/6528 [==============================] - 5s 765us/step - loss: 6.1526e-05\n",
      "Epoch: 95\n",
      "Epoch 1/1\n",
      "6528/6528 [==============================] - 5s 758us/step - loss: 7.3977e-05\n",
      "Epoch: 96\n",
      "Epoch 1/1\n",
      "6528/6528 [==============================] - 5s 776us/step - loss: 5.6925e-05\n",
      "Epoch: 97\n",
      "Epoch 1/1\n",
      "6528/6528 [==============================] - 5s 807us/step - loss: 6.9766e-05\n",
      "Epoch: 98\n",
      "Epoch 1/1\n",
      "6528/6528 [==============================] - 5s 772us/step - loss: 5.4358e-05\n",
      "Epoch: 99\n",
      "Epoch 1/1\n",
      "6528/6528 [==============================] - 5s 761us/step - loss: 6.7989e-05\n",
      "Epoch: 100\n",
      "Epoch 1/1\n",
      "6528/6528 [==============================] - 5s 768us/step - loss: 5.3745e-05\n",
      "Epoch: 101\n",
      "Epoch 1/1\n",
      "6528/6528 [==============================] - 6s 876us/step - loss: 6.7971e-05\n",
      "Epoch: 102\n",
      "Epoch 1/1\n",
      "6528/6528 [==============================] - 5s 758us/step - loss: 5.3871e-05\n",
      "Epoch: 103\n",
      "Epoch 1/1\n",
      "6528/6528 [==============================] - 5s 758us/step - loss: 6.8016e-05\n",
      "Epoch: 104\n",
      "Epoch 1/1\n",
      "6528/6528 [==============================] - 5s 774us/step - loss: 5.3643e-05 0s - lo\n",
      "Epoch: 105\n",
      "Epoch 1/1\n",
      "6528/6528 [==============================] - 5s 765us/step - loss: 6.7367e-05\n",
      "Epoch: 106\n",
      "Epoch 1/1\n",
      "6528/6528 [==============================] - 5s 758us/step - loss: 5.2850e-05\n",
      "Epoch: 107\n",
      "Epoch 1/1\n",
      "6528/6528 [==============================] - 5s 772us/step - loss: 6.6609e-05\n",
      "Epoch: 108\n",
      "Epoch 1/1\n",
      "6528/6528 [==============================] - 5s 769us/step - loss: 5.0932e-05\n",
      "Epoch: 109\n",
      "Epoch 1/1\n",
      "6528/6528 [==============================] - 5s 749us/step - loss: 6.4908e-05\n",
      "Epoch: 110\n",
      "Epoch 1/1\n",
      "6528/6528 [==============================] - 5s 820us/step - loss: 4.8941e-05\n",
      "Epoch: 111\n",
      "Epoch 1/1\n",
      "6528/6528 [==============================] - 6s 866us/step - loss: 6.2530e-05\n",
      "Epoch: 112\n",
      "Epoch 1/1\n",
      "6528/6528 [==============================] - 5s 740us/step - loss: 4.8375e-05\n",
      "Epoch: 113\n",
      "Epoch 1/1\n",
      "6528/6528 [==============================] - 5s 815us/step - loss: 6.1101e-05\n",
      "Epoch: 114\n",
      "Epoch 1/1\n",
      "6528/6528 [==============================] - 5s 775us/step - loss: 4.8804e-05\n",
      "Epoch: 115\n",
      "Epoch 1/1\n",
      "6528/6528 [==============================] - 5s 745us/step - loss: 6.1051e-05\n",
      "Epoch: 116\n",
      "Epoch 1/1\n",
      "6528/6528 [==============================] - 5s 819us/step - loss: 4.9116e-05\n",
      "Epoch: 117\n",
      "Epoch 1/1\n",
      "6528/6528 [==============================] - 5s 801us/step - loss: 6.0844e-05\n",
      "Epoch: 118\n",
      "Epoch 1/1\n",
      "6528/6528 [==============================] - 5s 737us/step - loss: 4.8596e-05\n",
      "Epoch: 119\n",
      "Epoch 1/1\n",
      "6528/6528 [==============================] - 5s 784us/step - loss: 5.9722e-05\n"
     ]
    }
   ],
   "source": [
    "epochs = 120\n",
    "for i in range(epochs):\n",
    "    print(\"Epoch: \" + str(i))\n",
    "    regressor_mse.fit(X_train, Y_train, shuffle=False, epochs = 1, batch_size = batch_size)\n",
    "    regressor_mse.reset_states()"
   ]
  },
  {
   "cell_type": "code",
   "execution_count": 82,
   "metadata": {},
   "outputs": [],
   "source": [
    "import h5py\n",
    "regressor_mse.save(filepath='crudeoil_price.h5')"
   ]
  },
  {
   "cell_type": "code",
   "execution_count": 84,
   "metadata": {},
   "outputs": [],
   "source": [
    "regressor_mse = load_model('crudeoil_price.h5')"
   ]
  },
  {
   "cell_type": "code",
   "execution_count": 85,
   "metadata": {},
   "outputs": [],
   "source": [
    "predicted_bcg_values_test_mse = regressor_mse.predict(X_test, batch_size=batch_size)\n",
    "regressor_mse.reset_states()\n",
    "\n",
    "predicted_bcg_values_test_mse = np.reshape(predicted_bcg_values_test_mse, \n",
    "                                       (predicted_bcg_values_test_mse.shape[0], \n",
    "                                        predicted_bcg_values_test_mse.shape[1]))\n",
    "predicted_bcg_values_test_mse = sc.inverse_transform(predicted_bcg_values_test_mse)\n",
    "\n",
    "pred_mse = []\n",
    "\n",
    "for j in range(0, testset_length - timesteps):\n",
    "    pred_mse = np.append(pred_mse, predicted_bcg_values_test_mse[j, timesteps-1])\n",
    "\n",
    "pred_mse = np.reshape(pred_mse, (pred_mse.shape[0], 1))"
   ]
  },
  {
   "cell_type": "code",
   "execution_count": 86,
   "metadata": {},
   "outputs": [
    {
     "data": {
      "image/png": "[encoded data removed]",
      "text/plain": [
       "<Figure size 432x288 with 1 Axes>"
      ]
     },
     "metadata": {
      "needs_background": "light"
     },
     "output_type": "display_data"
    }
   ],
   "source": [
    "plt.plot(test_set[timesteps:len(pred_mse)].astype(float), color = 'red', label = 'Real Crude Oil Prices')\n",
    "plt.plot(pred_mse[0:len(pred_mse) - timesteps], color = 'green', label = 'Predicted Crude Oil Prices with MSE')\n",
    "plt.title('Crude Oil Prices Prediction - MSE')\n",
    "plt.xlabel('Time')\n",
    "plt.ylabel('Crude Oil Prices')\n",
    "plt.legend()\n",
    "plt.show()"
   ]
  },
  {
   "cell_type": "code",
   "execution_count": 87,
   "metadata": {},
   "outputs": [
    {
     "name": "stdout",
     "output_type": "stream",
     "text": [
      "0.8853304792181488\n"
     ]
    }
   ],
   "source": [
    "from sklearn.metrics import mean_squared_error\n",
    "rmse = math.sqrt(mean_squared_error(test_set[timesteps:len(pred_mse)], pred_mse[0:len(pred_mse) - timesteps]))\n",
    "print(rmse)"
   ]
  },
  {
   "cell_type": "code",
   "execution_count": 88,
   "metadata": {},
   "outputs": [
    {
     "name": "stdout",
     "output_type": "stream",
     "text": [
      "19.287005420054204\n"
     ]
    }
   ],
   "source": [
    "mean = np.mean(np.float64(test_set[timesteps:len(pred_mse)]))\n",
    "print(mean)"
   ]
  },
  {
   "cell_type": "code",
   "execution_count": 89,
   "metadata": {},
   "outputs": [
    {
     "data": {
      "text/plain": [
       "4.590295175100649"
      ]
     },
     "execution_count": 89,
     "metadata": {},
     "output_type": "execute_result"
    }
   ],
   "source": [
    "rmse/mean * 100"
   ]
  },
  {
   "cell_type": "code",
   "execution_count": 90,
   "metadata": {},
   "outputs": [
    {
     "name": "stdout",
     "output_type": "stream",
     "text": [
      "0.6609097378686838\n"
     ]
    }
   ],
   "source": [
    "from sklearn.metrics import mean_absolute_error\n",
    "mae = mean_absolute_error(test_set[timesteps:len(pred_mse)], pred_mse[0:len(pred_mse) - timesteps])\n",
    "print(mae)\n"
   ]
  },
  {
   "cell_type": "code",
   "execution_count": 91,
   "metadata": {},
   "outputs": [
    {
     "data": {
      "text/plain": [
       "3.426709971167864"
      ]
     },
     "execution_count": 91,
     "metadata": {},
     "output_type": "execute_result"
    }
   ],
   "source": [
    "mae/mean * 100"
   ]
  },
  {
   "cell_type": "code",
   "execution_count": null,
   "metadata": {},
   "outputs": [],
   "source": []
  }
 ],
 "metadata": {
  "kernelspec": {
   "display_name": "Python 3",
   "language": "python",
   "name": "python3"
  },
  "language_info": {
   "codemirror_mode": {
    "name": "ipython",
    "version": 3
   },
   "file_extension": ".py",
   "mimetype": "text/x-python",
   "name": "python",
   "nbconvert_exporter": "python",
   "pygments_lexer": "ipython3",
   "version": "3.7.3"
  }
 },
 "nbformat": 4,
 "nbformat_minor": 2
}
